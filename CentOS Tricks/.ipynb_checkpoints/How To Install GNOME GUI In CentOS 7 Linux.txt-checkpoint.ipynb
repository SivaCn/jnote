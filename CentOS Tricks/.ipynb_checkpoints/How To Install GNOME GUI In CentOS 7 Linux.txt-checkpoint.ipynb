{
 "cells": [
  {
   "cell_type": "markdown",
   "metadata": {},
   "source": [
    "# How To Install GNOME GUI In CentOS 7 Linux"
   ]
  },
  {
   "cell_type": "markdown",
   "metadata": {},
   "source": [
    "By default a full installation of CentOS 7 will have the graphical user interface (GUI) installed and it will load up after system boot, however if we have installed CentOS without the GUI we can always install it later.\n",
    "\n",
    "This quick guide will cover how to install the GNOME 3 desktop on CentOS 7, which will provide a GUI for working with the Linux system. While I don’t suggest using a GUI on a production server, it’s a good option if you’re using CentOS as a desktop."
   ]
  },
  {
   "cell_type": "markdown",
   "metadata": {},
   "source": [
    "### Install GUI In CentOS"
   ]
  },
  {
   "cell_type": "code",
   "execution_count": null,
   "metadata": {
    "collapsed": true
   },
   "outputs": [],
   "source": [
    "# While there are many different graphical user interfaces available for Linux, in this example \n",
    "# we will be using GNOME, which is what CentOS uses by default.\n",
    "\n",
    "# This is as simple as installing the “GNOME Desktop” package group, which is already configured \n",
    "# to install hundreds more packages that are required for a GUI installation.\n",
    "\n",
    "[root@centos7 ~]# yum groupinstall \"GNOME Desktop\" -y\n",
    "\n",
    "# Note that this may take a while, on my minimal installation I needed to download 280 packages\n",
    "# which took up almost 700MB."
   ]
  },
  {
   "cell_type": "markdown",
   "metadata": {},
   "source": [
    "### Start The GUI"
   ]
  },
  {
   "cell_type": "code",
   "execution_count": null,
   "metadata": {
    "collapsed": true
   },
   "outputs": [],
   "source": [
    "# By default after installing the “GNOME Desktop” group of packages, the default target will \n",
    "# not have changed, meaning that after a reboot the GUI will not automatically be loaded.\n",
    "# We can check the current default target as shown below.\n",
    "\n",
    "[root@centos7 ~]# systemctl get-default\n",
    "multi-user.target\n",
    "\n",
    "# The target is similar to the old run levels, in this case multi-user.target is equivalent to run level 3 \n",
    "# meaning that after a reboot the GUI will not be loaded here. We instead set the default to the \n",
    "# graphical.target which is equivalent to run level 5.\n",
    "\n",
    "[root@centos7 ~]# systemctl set-default graphical.target\n",
    "Removed symlink /etc/systemd/system/default.target.\n",
    "Created symlink from /etc/systemd/system/default.target to /usr/lib/systemd/system/graphical.target.\n",
    "\n",
    "[root@centos7 ~]# systemctl get-default\n",
    "graphical.target\n",
    "\n",
    "# While this has changed the default target which is accessed during system boot, our current target\n",
    "# is still the multi-user.target. We can change to the GUI by performing ‘systemctl isolate graphical.target’\n",
    "# which will change us to the GUI immediately.\n",
    "\n",
    "[root@centos7 ~]# systemctl isolate graphical.target\n",
    "\n",
    "# Alternatively a system reboot would also work, as all future boots should boot to the graphical\n",
    "# target by default."
   ]
  },
  {
   "cell_type": "markdown",
   "metadata": {},
   "source": [
    "### Removing The GUI"
   ]
  },
  {
   "cell_type": "code",
   "execution_count": null,
   "metadata": {
    "collapsed": true
   },
   "outputs": [],
   "source": [
    "# If you’ve installed the GUI on a server and realized that it was a terrible mistake, don’t worry!\n",
    "# We can also undo this by simply using yum to remove the “GNOME Desktop” package group\n",
    "\n",
    "[root@centos7 ~]# yum groupremove \"GNOME Desktop\""
   ]
  }
 ],
 "metadata": {
  "kernelspec": {
   "display_name": "Python 3",
   "language": "python",
   "name": "python3"
  },
  "language_info": {
   "codemirror_mode": {
    "name": "ipython",
    "version": 3
   },
   "file_extension": ".py",
   "mimetype": "text/x-python",
   "name": "python",
   "nbconvert_exporter": "python",
   "pygments_lexer": "ipython3",
   "version": "3.5.3"
  }
 },
 "nbformat": 4,
 "nbformat_minor": 2
}
