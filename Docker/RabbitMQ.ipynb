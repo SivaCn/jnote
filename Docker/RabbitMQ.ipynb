{
 "cells": [
  {
   "cell_type": "markdown",
   "metadata": {},
   "source": [
    "RabbitMQ is a highly reliable enterprise messaging system based on the emerging AMQP standard"
   ]
  },
  {
   "cell_type": "code",
   "execution_count": null,
   "metadata": {
    "collapsed": true
   },
   "outputs": [],
   "source": [
    "#RabbitMQ image can be pulled using the following command.\n",
    "\n",
    "$ docker pull rabbitmq"
   ]
  },
  {
   "cell_type": "markdown",
   "metadata": {},
   "source": [
    "What is RabbitMQ?\n",
    "\n",
    "RabbitMQ is open source message broker software (sometimes called message-oriented middleware) that implements the Advanced Message Queuing Protocol (AMQP). The RabbitMQ server is written in the Erlang programming language and is built on the Open Telecom Platform framework for clustering and failover. Client libraries to interface with the broker are available for all major programming languages."
   ]
  },
  {
   "cell_type": "code",
   "execution_count": null,
   "metadata": {
    "collapsed": true
   },
   "outputs": [],
   "source": [
    "#How to use this image\n",
    "\n",
    "#Running the daemon\n",
    "\n",
    "#One of the important things to note about RabbitMQ is that it stores data based \n",
    "#on what it calls the \"Node Name\", which defaults to the hostname. What this means\n",
    "#for usage in Docker is that we should specify -h/--hostname explicitly for each daemon \n",
    "#so that we don't get a random hostname and can keep track of our data:\n",
    "\n",
    "$ docker run -d --hostname my-rabbit --name some-rabbit rabbitmq:3\n",
    "\n",
    "#If you give that a minute, then do docker logs some-rabbit, you'll see in the output a block similar to:\n",
    "\n",
    "=INFO REPORT==== 6-Jul-2015::20:47:02 ===\n",
    "node           : rabbit@my-rabbit\n",
    "home dir       : /var/lib/rabbitmq\n",
    "config file(s) : /etc/rabbitmq/rabbitmq.config\n",
    "cookie hash    : UoNOcDhfxW9uoZ92wh6BjA==\n",
    "log            : tty\n",
    "sasl log       : tty\n",
    "database dir   : /var/lib/rabbitmq/mnesia/rabbit@my-rabbit\n",
    "\n",
    "#Note the database dir there, especially that it has my \"Node Name\" appended to the end for\n",
    "#the file storage. This image makes all of /var/lib/rabbitmq a volume by default."
   ]
  },
  {
   "cell_type": "code",
   "execution_count": null,
   "metadata": {
    "collapsed": true
   },
   "outputs": [],
   "source": [
    "Erlang Cookie\n",
    "\n",
    "#See the RabbitMQ \"Clustering Guide\" for more information about cookies and why they're necessary.\n",
    "\n",
    "#For setting a consistent cookie (especially useful for clustering but also for remote/cross-container administration via rabbitmqctl), use RABBITMQ_ERLANG_COOKIE:\n",
    "\n",
    "$ docker run -d --hostname my-rabbit --name some-rabbit -e RABBITMQ_ERLANG_COOKIE='secret cookie here' rabbitmq:3\n",
    "\n",
    "#This can then be used from a separate instance to connect:\n",
    "\n",
    "$ docker run -it --rm --link some-rabbit:my-rabbit -e RABBITMQ_ERLANG_COOKIE='secret cookie here' rabbitmq:3 bash\n",
    "root@f2a2d3d27c75:/# rabbitmqctl -n rabbit@my-rabbit list_users\n",
    "Listing users ...\n",
    "guest   [administrator]\n",
    "\n",
    "#Alternatively, one can also use RABBITMQ_NODENAME to make repeated rabbitmqctl invocations simpler:\n",
    "\n",
    "$ docker run -it --rm --link some-rabbit:my-rabbit -e RABBITMQ_ERLANG_COOKIE='secret cookie here' -e RABBITMQ_NODENAME=rabbit@my-rabbit rabbitmq:3 bash\n",
    "root@f2a2d3d27c75:/# rabbitmqctl list_users\n",
    "Listing users ...\n",
    "guest   [administrator]"
   ]
  },
  {
   "cell_type": "code",
   "execution_count": null,
   "metadata": {
    "collapsed": true
   },
   "outputs": [],
   "source": [
    "Management Plugin\n",
    "\n",
    "There is a second set of tags provided with the management plugin installed and enabled by default, which is available on the standard management port of 15672, with the default username and password of guest / guest:\n",
    "\n",
    "$ docker run -d --hostname my-rabbit --name some-rabbit rabbitmq:3-management\n",
    "\n",
    "#You can access it by visiting http://container-ip:15672 in a browser or, if you need access outside the host, on port 8080:\n",
    "\n",
    "$ docker run -d --hostname my-rabbit --name some-rabbit -p 8080:15672 rabbitmq:3-management\n",
    "\n",
    "#You can then go to http://localhost:8080 or http://host-ip:8080 in a browser."
   ]
  },
  {
   "cell_type": "code",
   "execution_count": null,
   "metadata": {
    "collapsed": true
   },
   "outputs": [],
   "source": [
    "Setting default user and password\n",
    "\n",
    "#If you wish to change the default username and password of guest / guest, you can do so\n",
    "#with the RABBITMQ_DEFAULT_USER and RABBITMQ_DEFAULT_PASS environmental variables:\n",
    "\n",
    "$ docker run -d --hostname my-rabbit --name some-rabbit -e RABBITMQ_DEFAULT_USER=user -e RABBITMQ_DEFAULT_PASS=password rabbitmq:3-management\n",
    "\n",
    "#You can then go to http://localhost:8080 or http://host-ip:8080 in a browser and use\n",
    "#user/password to gain access to the management console"
   ]
  },
  {
   "cell_type": "code",
   "execution_count": null,
   "metadata": {
    "collapsed": true
   },
   "outputs": [],
   "source": [
    "Setting default vhost\n",
    "\n",
    "#If you wish to change the default vhost, you can do so with the RABBITMQ_DEFAULT_VHOST\n",
    "#environmental variables:\n",
    "\n",
    "$ docker run -d --hostname my-rabbit --name some-rabbit -e RABBITMQ_DEFAULT_VHOST=my_vhost rabbitmq:3-management"
   ]
  },
  {
   "cell_type": "code",
   "execution_count": null,
   "metadata": {
    "collapsed": true
   },
   "outputs": [],
   "source": [
    "Enabling HiPE\n",
    "\n",
    "#See the RabbitMQ \"Configuration\" for more information about various configuration options.\n",
    "\n",
    "#For enabling the HiPE compiler on startup use RABBITMQ_HIPE_COMPILE set to 1. Accroding to the official\n",
    "#documentation:\n",
    "\n",
    "#Set to true to precompile parts of RabbitMQ with HiPE, a just-in-time compiler for Erlang.\n",
    "#This will increase server throughput at the cost of increased startup time.\n",
    "#You might see 20-50% better performance at the cost of a few minutes delay at startup.\n",
    "\n",
    "#It is therefore important to take that startup delay into consideration when configuring health checks,\n",
    "#automated clustering etc."
   ]
  },
  {
   "cell_type": "code",
   "execution_count": null,
   "metadata": {
    "collapsed": true
   },
   "outputs": [],
   "source": [
    "Connecting to the daemon\n",
    "\n",
    "$ docker run --name some-app --link some-rabbit:rabbit -d application-that-uses-rabbitmq"
   ]
  }
 ],
 "metadata": {
  "kernelspec": {
   "display_name": "Python 3",
   "language": "python",
   "name": "python3"
  },
  "language_info": {
   "codemirror_mode": {
    "name": "ipython",
    "version": 3
   },
   "file_extension": ".py",
   "mimetype": "text/x-python",
   "name": "python",
   "nbconvert_exporter": "python",
   "pygments_lexer": "ipython3",
   "version": "3.5.3"
  }
 },
 "nbformat": 4,
 "nbformat_minor": 2
}
