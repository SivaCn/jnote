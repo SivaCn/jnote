{
 "cells": [
  {
   "cell_type": "markdown",
   "metadata": {},
   "source": [
    "Reference: https://github.com/sequenceiq/hadoop-docker"
   ]
  },
  {
   "cell_type": "markdown",
   "metadata": {},
   "source": [
    "                                    Apache Hadoop 2.7.1 Docker image\n",
    "\n",
    "\n",
    "Note: this is the master branch - for a particular Hadoop version always check the related branch\n",
    "\n",
    "A few weeks ago we released an Apache Hadoop 2.3 Docker image - this quickly become the most popular Hadoop image in the Docker registry.\n",
    "\n",
    "Following the success of our previous Hadoop Docker images, the feedback and feature requests we received, we aligned with the Hadoop release cycle, so we have released an Apache Hadoop 2.7.1 Docker image - same as the previous version, it's available as a trusted and automated build on the official Docker registry."
   ]
  },
  {
   "cell_type": "code",
   "execution_count": null,
   "metadata": {
    "collapsed": true
   },
   "outputs": [],
   "source": [
    "If you'd like to try directly from the Dockerfile you can build the image as:\n",
    "\n",
    "# docker build  -t sequenceiq/hadoop-docker:2.7.1 ."
   ]
  },
  {
   "cell_type": "code",
   "execution_count": null,
   "metadata": {
    "collapsed": true
   },
   "outputs": [],
   "source": [
    "                                     Pull the image\n",
    "\n",
    "The image is also released as an official Docker image from Docker's automated build repository -\n",
    "you can always pull or refer the image when launching containers.\n",
    "\n",
    "# docker pull sequenceiq/hadoop-docker:2.7.1"
   ]
  },
  {
   "cell_type": "code",
   "execution_count": null,
   "metadata": {
    "collapsed": true
   },
   "outputs": [],
   "source": [
    "                                    Start a container\n",
    "\n",
    "In order to use the Docker image you have just build or pulled use:\n",
    "\n",
    "Make sure that SELinux is disabled on the host. If you are using boot2docker you don't need to do anything.\n",
    "\n",
    "# docker run -it sequenceiq/hadoop-docker:2.7.1 /etc/bootstrap.sh -bash"
   ]
  },
  {
   "cell_type": "code",
   "execution_count": null,
   "metadata": {
    "collapsed": true
   },
   "outputs": [],
   "source": [
    "Testing\n",
    "\n",
    "You can run one of the stock examples:\n",
    "\n",
    "cd $HADOOP_PREFIX\n",
    "# run the mapreduce\n",
    "bin/hadoop jar share/hadoop/mapreduce/hadoop-mapreduce-examples-2.7.1.jar grep input output 'dfs[a-z.]+'\n",
    "\n",
    "# check the output\n",
    "bin/hdfs dfs -cat output/*\n",
    "\n",
    "Hadoop native libraries, build, Bintray, etc\n",
    "\n",
    "The Hadoop build process is no easy task - requires lots of libraries and their right version,\n",
    "protobuf, etc and takes some time - we have simplified all these, made the build and released a 64b\n",
    "version of Hadoop nativelibs on this Bintray repo. Enjoy.\n",
    "\n",
    "Automate everything\n",
    "\n",
    "As we have mentioned previousely, a Docker file was created and released in the official Docker repository"
   ]
  }
 ],
 "metadata": {
  "kernelspec": {
   "display_name": "Python 3",
   "language": "python",
   "name": "python3"
  },
  "language_info": {
   "codemirror_mode": {
    "name": "ipython",
    "version": 3
   },
   "file_extension": ".py",
   "mimetype": "text/x-python",
   "name": "python",
   "nbconvert_exporter": "python",
   "pygments_lexer": "ipython3",
   "version": "3.5.3"
  }
 },
 "nbformat": 4,
 "nbformat_minor": 2
}
