{
 "cells": [
  {
   "cell_type": "code",
   "execution_count": null,
   "metadata": {
    "collapsed": true
   },
   "outputs": [],
   "source": [
    "# yum install pidgin pidgin-sipe\n",
    "\n",
    "And then restart Pidgin and add a new Account. The Office Communicator is the relevant plugin, with the following parameters:\n",
    "\n",
    "    Protocol: Office Communicator\n",
    "    Username: Your Office 365 or Skype for Business username - probably your email address\n",
    "    Password: Your password is obviously required - and will be stored unencrypted in the config file, so you may wish to leave this blank and enter at each login\n",
    "    Server[:Port]: Leave empty if your set-up has autodiscovery\n",
    "    Connection type: Auto\n",
    "    User Agent: UCCAPI/15.0.4420.1017 OC/15.0.4420.1017\n",
    "    Authentication scheme: TLS-DSK\n"
   ]
  }
 ],
 "metadata": {
  "kernelspec": {
   "display_name": "Python 3",
   "language": "python",
   "name": "python3"
  },
  "language_info": {
   "codemirror_mode": {
    "name": "ipython",
    "version": 3
   },
   "file_extension": ".py",
   "mimetype": "text/x-python",
   "name": "python",
   "nbconvert_exporter": "python",
   "pygments_lexer": "ipython3",
   "version": "3.5.3"
  }
 },
 "nbformat": 4,
 "nbformat_minor": 2
}
